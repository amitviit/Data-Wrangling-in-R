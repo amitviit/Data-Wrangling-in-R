{
 "cells": [
  {
   "cell_type": "markdown",
   "metadata": {},
   "source": [
    "# Data Wrangling using Dplyr\n",
    "\n",
    "#####  Tutorial at http://genomicsclass.github.io/book/pages/dplyr_tutorial.html\n",
    "\n",
    "### Verbs\n",
    "* Select : To select columns\n",
    "* Filter : to Filter rows\n",
    "* Arrange: to order rows\n",
    "* mutate: to create new columns\n",
    "* summary : to create summaries \n",
    "* group_by: create summaries by group  (Split -> apply -> combine)\n"
   ]
  },
  {
   "cell_type": "code",
   "execution_count": 4,
   "metadata": {
    "collapsed": false
   },
   "outputs": [],
   "source": [
    "library(dplyr)\n",
    "library(downloader)"
   ]
  },
  {
   "cell_type": "code",
   "execution_count": 50,
   "metadata": {
    "collapsed": false
   },
   "outputs": [
    {
     "data": {
      "text/html": [
       "<table>\n",
       "<thead><tr><th scope=col>name</th><th scope=col>genus</th><th scope=col>vore</th><th scope=col>order</th><th scope=col>conservation</th><th scope=col>sleep_total</th><th scope=col>sleep_rem</th><th scope=col>sleep_cycle</th><th scope=col>awake</th><th scope=col>brainwt</th><th scope=col>bodywt</th></tr></thead>\n",
       "<tbody>\n",
       "\t<tr><td>Cheetah                   </td><td>Acinonyx                  </td><td>carni                     </td><td>Carnivora                 </td><td>lc                        </td><td>12.1                      </td><td> NA                       </td><td>       NA                 </td><td>11.9                      </td><td>     NA                   </td><td> 50.000                   </td></tr>\n",
       "\t<tr><td>Owl monkey                </td><td>Aotus                     </td><td>omni                      </td><td>Primates                  </td><td>NA                        </td><td>17.0                      </td><td>1.8                       </td><td>       NA                 </td><td> 7.0                      </td><td>0.01550                   </td><td>  0.480                   </td></tr>\n",
       "\t<tr><td>Mountain beaver           </td><td>Aplodontia                </td><td>herbi                     </td><td>Rodentia                  </td><td>nt                        </td><td>14.4                      </td><td>2.4                       </td><td>       NA                 </td><td> 9.6                      </td><td>     NA                   </td><td>  1.350                   </td></tr>\n",
       "\t<tr><td>Greater short-tailed shrew</td><td>Blarina                   </td><td>omni                      </td><td>Soricomorpha              </td><td>lc                        </td><td>14.9                      </td><td>2.3                       </td><td>0.1333333                 </td><td> 9.1                      </td><td>0.00029                   </td><td>  0.019                   </td></tr>\n",
       "\t<tr><td>Cow                       </td><td>Bos                       </td><td>herbi                     </td><td>Artiodactyla              </td><td>domesticated              </td><td> 4.0                      </td><td>0.7                       </td><td>0.6666667                 </td><td>20.0                      </td><td>0.42300                   </td><td>600.000                   </td></tr>\n",
       "\t<tr><td>Three-toed sloth          </td><td>Bradypus                  </td><td>herbi                     </td><td>Pilosa                    </td><td>NA                        </td><td>14.4                      </td><td>2.2                       </td><td>0.7666667                 </td><td> 9.6                      </td><td>     NA                   </td><td>  3.850                   </td></tr>\n",
       "</tbody>\n",
       "</table>\n"
      ],
      "text/latex": [
       "\\begin{tabular}{r|lllllllllll}\n",
       " name & genus & vore & order & conservation & sleep\\_total & sleep\\_rem & sleep\\_cycle & awake & brainwt & bodywt\\\\\n",
       "\\hline\n",
       "\t Cheetah                    & Acinonyx                   & carni                      & Carnivora                  & lc                         & 12.1                       &  NA                        &        NA                  & 11.9                       &      NA                    &  50.000                   \\\\\n",
       "\t Owl monkey                 & Aotus                      & omni                       & Primates                   & NA                         & 17.0                       & 1.8                        &        NA                  &  7.0                       & 0.01550                    &   0.480                   \\\\\n",
       "\t Mountain beaver            & Aplodontia                 & herbi                      & Rodentia                   & nt                         & 14.4                       & 2.4                        &        NA                  &  9.6                       &      NA                    &   1.350                   \\\\\n",
       "\t Greater short-tailed shrew & Blarina                    & omni                       & Soricomorpha               & lc                         & 14.9                       & 2.3                        & 0.1333333                  &  9.1                       & 0.00029                    &   0.019                   \\\\\n",
       "\t Cow                        & Bos                        & herbi                      & Artiodactyla               & domesticated               &  4.0                       & 0.7                        & 0.6666667                  & 20.0                       & 0.42300                    & 600.000                   \\\\\n",
       "\t Three-toed sloth           & Bradypus                   & herbi                      & Pilosa                     & NA                         & 14.4                       & 2.2                        & 0.7666667                  &  9.6                       &      NA                    &   3.850                   \\\\\n",
       "\\end{tabular}\n"
      ],
      "text/markdown": [
       "\n",
       "name | genus | vore | order | conservation | sleep_total | sleep_rem | sleep_cycle | awake | brainwt | bodywt | \n",
       "|---|---|---|---|---|---|\n",
       "| Cheetah                    | Acinonyx                   | carni                      | Carnivora                  | lc                         | 12.1                       |  NA                        |        NA                  | 11.9                       |      NA                    |  50.000                    | \n",
       "| Owl monkey                 | Aotus                      | omni                       | Primates                   | NA                         | 17.0                       | 1.8                        |        NA                  |  7.0                       | 0.01550                    |   0.480                    | \n",
       "| Mountain beaver            | Aplodontia                 | herbi                      | Rodentia                   | nt                         | 14.4                       | 2.4                        |        NA                  |  9.6                       |      NA                    |   1.350                    | \n",
       "| Greater short-tailed shrew | Blarina                    | omni                       | Soricomorpha               | lc                         | 14.9                       | 2.3                        | 0.1333333                  |  9.1                       | 0.00029                    |   0.019                    | \n",
       "| Cow                        | Bos                        | herbi                      | Artiodactyla               | domesticated               |  4.0                       | 0.7                        | 0.6666667                  | 20.0                       | 0.42300                    | 600.000                    | \n",
       "| Three-toed sloth           | Bradypus                   | herbi                      | Pilosa                     | NA                         | 14.4                       | 2.2                        | 0.7666667                  |  9.6                       |      NA                    |   3.850                    | \n",
       "\n",
       "\n"
      ],
      "text/plain": [
       "  name                       genus      vore  order        conservation\n",
       "1 Cheetah                    Acinonyx   carni Carnivora    lc          \n",
       "2 Owl monkey                 Aotus      omni  Primates     NA          \n",
       "3 Mountain beaver            Aplodontia herbi Rodentia     nt          \n",
       "4 Greater short-tailed shrew Blarina    omni  Soricomorpha lc          \n",
       "5 Cow                        Bos        herbi Artiodactyla domesticated\n",
       "6 Three-toed sloth           Bradypus   herbi Pilosa       NA          \n",
       "  sleep_total sleep_rem sleep_cycle awake brainwt bodywt \n",
       "1 12.1         NA              NA   11.9       NA  50.000\n",
       "2 17.0        1.8              NA    7.0  0.01550   0.480\n",
       "3 14.4        2.4              NA    9.6       NA   1.350\n",
       "4 14.9        2.3       0.1333333    9.1  0.00029   0.019\n",
       "5  4.0        0.7       0.6666667   20.0  0.42300 600.000\n",
       "6 14.4        2.2       0.7666667    9.6       NA   3.850"
      ]
     },
     "metadata": {},
     "output_type": "display_data"
    }
   ],
   "source": [
    "url <- \"https://raw.githubusercontent.com/genomicsclass/dagdata/master/inst/extdata/msleep_ggplot2.csv\"\n",
    "filename <- \"msleep_ggplot2.csv\"\n",
    "\n",
    "if (!file.exists(filename)) download(url,filename)\n",
    "    \n",
    "msleep <- read.csv(\"msleep_ggplot2.csv\")\n",
    "head(msleep)"
   ]
  },
  {
   "cell_type": "markdown",
   "metadata": {},
   "source": [
    "# Selecting columns using select()"
   ]
  },
  {
   "cell_type": "code",
   "execution_count": null,
   "metadata": {
    "collapsed": false
   },
   "outputs": [],
   "source": [
    "# Select some columns\n",
    "sleepData <- select(msleep,name,sleep_total)\n",
    "head(sleepData)"
   ]
  },
  {
   "cell_type": "code",
   "execution_count": null,
   "metadata": {
    "collapsed": false
   },
   "outputs": [],
   "source": [
    "# Select all but name\n",
    "head(select(msleep,-name))"
   ]
  },
  {
   "cell_type": "code",
   "execution_count": null,
   "metadata": {
    "collapsed": false
   },
   "outputs": [],
   "source": [
    "# Select all from name to order\n",
    "head(select(msleep, name: order))"
   ]
  },
  {
   "cell_type": "code",
   "execution_count": null,
   "metadata": {
    "collapsed": false
   },
   "outputs": [],
   "source": [
    "# select columns that start with sleep\n",
    "head(select(msleep, starts_with(\"sleep\")))"
   ]
  },
  {
   "cell_type": "code",
   "execution_count": null,
   "metadata": {
    "collapsed": false
   },
   "outputs": [],
   "source": [
    "# select columns that end with t\n",
    "head(select(msleep, ends_with(\"t\")))"
   ]
  },
  {
   "cell_type": "code",
   "execution_count": null,
   "metadata": {
    "collapsed": false
   },
   "outputs": [],
   "source": [
    "# select columns that contain sleep\n",
    "head(select(msleep, contains(\"sleep\")))"
   ]
  },
  {
   "cell_type": "markdown",
   "metadata": {},
   "source": [
    "# Select rows using filter()"
   ]
  },
  {
   "cell_type": "code",
   "execution_count": null,
   "metadata": {
    "collapsed": false
   },
   "outputs": [],
   "source": [
    "# filter on total sleep\n",
    "head(filter(msleep,sleep_total >= 16))"
   ]
  },
  {
   "cell_type": "code",
   "execution_count": null,
   "metadata": {
    "collapsed": false
   },
   "outputs": [],
   "source": [
    "# filter on total sleep and bodywt\n",
    "head(filter(msleep, sleep_total >= 16, bodywt >= 1))"
   ]
  },
  {
   "cell_type": "code",
   "execution_count": null,
   "metadata": {
    "collapsed": false
   },
   "outputs": [],
   "source": [
    "# same with just and operator\n",
    "head(filter(msleep, sleep_total >= 16 & bodywt >= 1))"
   ]
  },
  {
   "cell_type": "code",
   "execution_count": null,
   "metadata": {
    "collapsed": false
   },
   "outputs": [],
   "source": [
    "# filter where order is in the list\n",
    "head(filter(msleep, order %in% c('Cingulata','Didelphimorphia')))"
   ]
  },
  {
   "cell_type": "markdown",
   "metadata": {},
   "source": [
    "# Pipe operator %>%"
   ]
  },
  {
   "cell_type": "code",
   "execution_count": null,
   "metadata": {
    "collapsed": false
   },
   "outputs": [],
   "source": [
    "msleep %>%\n",
    "filter(order %in% c(\"Cingulata\"), sleep_total > 10)%>%\n",
    "select(name,genus,order)%>%\n",
    "head()\n"
   ]
  },
  {
   "cell_type": "markdown",
   "metadata": {},
   "source": [
    "# Reorder rows using arrange()"
   ]
  },
  {
   "cell_type": "code",
   "execution_count": null,
   "metadata": {
    "collapsed": false
   },
   "outputs": [],
   "source": [
    "# order by column order ascending is default\n",
    "msleep %>% arrange(order) %>% head()"
   ]
  },
  {
   "cell_type": "code",
   "execution_count": null,
   "metadata": {
    "collapsed": false
   },
   "outputs": [],
   "source": [
    "# select some columns and then order \n",
    "msleep%>%\n",
    "    select(name,order,sleep_total)%>%\n",
    "    arrange(order,desc(sleep_total))%>%\n",
    "    head()"
   ]
  },
  {
   "cell_type": "code",
   "execution_count": null,
   "metadata": {
    "collapsed": false
   },
   "outputs": [],
   "source": [
    "# select columns, arrange them and then filter\n",
    "msleep%>%\n",
    "    select(name,order,sleep_total)%>%\n",
    "    arrange(order,desc(sleep_total))%>%\n",
    "    filter(sleep_total>15)%>%\n",
    "    head()"
   ]
  },
  {
   "cell_type": "markdown",
   "metadata": {},
   "source": [
    "# Add new column using mutate"
   ]
  },
  {
   "cell_type": "code",
   "execution_count": null,
   "metadata": {
    "collapsed": false
   },
   "outputs": [],
   "source": [
    "# create a new column using two exisiting columns\n",
    "# then filter and arrange and then select\n",
    "msleep %>%\n",
    "    mutate(remproportion = sleep_rem/sleep_total, bodywt_grams = bodywt * 1000)%>%\n",
    "    filter(remproportion >= 0.2)%>%\n",
    "    arrange(desc(remproportion))%>%\n",
    "    select(name:order,remproportion,bodywt_grams)%>%\n",
    "    head"
   ]
  },
  {
   "cell_type": "markdown",
   "metadata": {},
   "source": [
    "# Create summaries of data using summarise()"
   ]
  },
  {
   "cell_type": "code",
   "execution_count": 43,
   "metadata": {
    "collapsed": false
   },
   "outputs": [
    {
     "data": {
      "text/html": [
       "<table>\n",
       "<thead><tr><th scope=col>avg_sleep</th><th scope=col>min_sleep</th><th scope=col>max_sleep</th><th scope=col>total</th></tr></thead>\n",
       "<tbody>\n",
       "\t<tr><td>10.43373</td><td>1.9     </td><td>19.9    </td><td>83      </td></tr>\n",
       "</tbody>\n",
       "</table>\n"
      ],
      "text/latex": [
       "\\begin{tabular}{r|llll}\n",
       " avg\\_sleep & min\\_sleep & max\\_sleep & total\\\\\n",
       "\\hline\n",
       "\t 10.43373 & 1.9      & 19.9     & 83      \\\\\n",
       "\\end{tabular}\n"
      ],
      "text/markdown": [
       "\n",
       "avg_sleep | min_sleep | max_sleep | total | \n",
       "|---|\n",
       "| 10.43373 | 1.9      | 19.9     | 83       | \n",
       "\n",
       "\n"
      ],
      "text/plain": [
       "  avg_sleep min_sleep max_sleep total\n",
       "1 10.43373  1.9       19.9      83   "
      ]
     },
     "metadata": {},
     "output_type": "display_data"
    }
   ],
   "source": [
    "# create summary over the whole data\n",
    "msleep %>%\n",
    "    summarise(\n",
    "        avg_sleep = mean(sleep_total),\n",
    "        min_sleep = min(sleep_total),\n",
    "        max_sleep = max(sleep_total),\n",
    "        total =n())"
   ]
  },
  {
   "cell_type": "code",
   "execution_count": 44,
   "metadata": {
    "collapsed": false
   },
   "outputs": [
    {
     "data": {
      "text/html": [
       "<table>\n",
       "<thead><tr><th scope=col>avg_sleep</th></tr></thead>\n",
       "<tbody>\n",
       "\t<tr><td>9.5</td></tr>\n",
       "</tbody>\n",
       "</table>\n"
      ],
      "text/latex": [
       "\\begin{tabular}{r|l}\n",
       " avg\\_sleep\\\\\n",
       "\\hline\n",
       "\t 9.5\\\\\n",
       "\\end{tabular}\n"
      ],
      "text/markdown": [
       "\n",
       "avg_sleep | \n",
       "|---|\n",
       "| 9.5 | \n",
       "\n",
       "\n"
      ],
      "text/plain": [
       "  avg_sleep\n",
       "1 9.5      "
      ]
     },
     "metadata": {},
     "output_type": "display_data"
    }
   ],
   "source": [
    "# filter and then summarise\n",
    "msleep %>%\n",
    "    filter(genus %in% c('Canis','Tupaia'))%>%\n",
    "    summarise(avg_sleep = mean(sleep_total))%>%\n",
    "    head"
   ]
  },
  {
   "cell_type": "markdown",
   "metadata": {},
   "source": [
    "# Group operations using group_by()"
   ]
  },
  {
   "cell_type": "code",
   "execution_count": 49,
   "metadata": {
    "collapsed": false
   },
   "outputs": [
    {
     "data": {
      "text/html": [
       "<table>\n",
       "<thead><tr><th scope=col>order</th><th scope=col>avg_sleep</th><th scope=col>min_sleep</th><th scope=col>max_sleep</th><th scope=col>records</th></tr></thead>\n",
       "<tbody>\n",
       "\t<tr><td>Afrosoricida</td><td>15.600000   </td><td>15.6        </td><td>15.6        </td><td> 1          </td></tr>\n",
       "\t<tr><td>Artiodactyla</td><td> 4.516667   </td><td> 1.9        </td><td> 1.9        </td><td> 6          </td></tr>\n",
       "\t<tr><td>Carnivora   </td><td>10.116667   </td><td> 3.5        </td><td> 3.5        </td><td>12          </td></tr>\n",
       "\t<tr><td>Cetacea     </td><td> 4.500000   </td><td> 2.7        </td><td> 2.7        </td><td> 3          </td></tr>\n",
       "\t<tr><td>Chiroptera  </td><td>19.800000   </td><td>19.7        </td><td>19.7        </td><td> 2          </td></tr>\n",
       "\t<tr><td>Cingulata   </td><td>17.750000   </td><td>17.4        </td><td>17.4        </td><td> 2          </td></tr>\n",
       "</tbody>\n",
       "</table>\n"
      ],
      "text/latex": [
       "\\begin{tabular}{r|lllll}\n",
       " order & avg\\_sleep & min\\_sleep & max\\_sleep & records\\\\\n",
       "\\hline\n",
       "\t Afrosoricida & 15.600000    & 15.6         & 15.6         &  1          \\\\\n",
       "\t Artiodactyla &  4.516667    &  1.9         &  1.9         &  6          \\\\\n",
       "\t Carnivora    & 10.116667    &  3.5         &  3.5         & 12          \\\\\n",
       "\t Cetacea      &  4.500000    &  2.7         &  2.7         &  3          \\\\\n",
       "\t Chiroptera   & 19.800000    & 19.7         & 19.7         &  2          \\\\\n",
       "\t Cingulata    & 17.750000    & 17.4         & 17.4         &  2          \\\\\n",
       "\\end{tabular}\n"
      ],
      "text/markdown": [
       "\n",
       "order | avg_sleep | min_sleep | max_sleep | records | \n",
       "|---|---|---|---|---|---|\n",
       "| Afrosoricida | 15.600000    | 15.6         | 15.6         |  1           | \n",
       "| Artiodactyla |  4.516667    |  1.9         |  1.9         |  6           | \n",
       "| Carnivora    | 10.116667    |  3.5         |  3.5         | 12           | \n",
       "| Cetacea      |  4.500000    |  2.7         |  2.7         |  3           | \n",
       "| Chiroptera   | 19.800000    | 19.7         | 19.7         |  2           | \n",
       "| Cingulata    | 17.750000    | 17.4         | 17.4         |  2           | \n",
       "\n",
       "\n"
      ],
      "text/plain": [
       "  order        avg_sleep min_sleep max_sleep records\n",
       "1 Afrosoricida 15.600000 15.6      15.6       1     \n",
       "2 Artiodactyla  4.516667  1.9       1.9       6     \n",
       "3 Carnivora    10.116667  3.5       3.5      12     \n",
       "4 Cetacea       4.500000  2.7       2.7       3     \n",
       "5 Chiroptera   19.800000 19.7      19.7       2     \n",
       "6 Cingulata    17.750000 17.4      17.4       2     "
      ]
     },
     "metadata": {},
     "output_type": "display_data"
    }
   ],
   "source": [
    "# split on column -> apply functions -> combine results\n",
    "\n",
    "# group by order and then summarise\n",
    "msleep %>%\n",
    "    group_by(order)%>%\n",
    "    summarise(avg_sleep = mean(sleep_total),\n",
    "            min_sleep = min(sleep_total),\n",
    "             max_sleep= min(sleep_total),\n",
    "             records = n())%>%\n",
    "    head"
   ]
  }
 ],
 "metadata": {
  "anaconda-cloud": {},
  "kernelspec": {
   "display_name": "R",
   "language": "R",
   "name": "ir"
  },
  "language_info": {
   "codemirror_mode": "r",
   "file_extension": ".r",
   "mimetype": "text/x-r-source",
   "name": "R",
   "pygments_lexer": "r",
   "version": "3.3.2"
  }
 },
 "nbformat": 4,
 "nbformat_minor": 1
}
